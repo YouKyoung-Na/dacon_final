{
 "cells": [
  {
   "cell_type": "code",
   "execution_count": null,
   "id": "8ca26cb3",
   "metadata": {
    "scrolled": true
   },
   "outputs": [
    {
     "name": "stdout",
     "output_type": "stream",
     "text": [
      "[sudo] password for cvlabserver: "
     ]
    }
   ],
   "source": [
    "!sudo apt install tesseract-ocr\n",
    "!sudo apt-get install tesseract-ocr-kor\n",
    "!pip install pytesseract==0.3.9"
   ]
  },
  {
   "cell_type": "code",
   "execution_count": null,
   "id": "80bb6b05",
   "metadata": {},
   "outputs": [],
   "source": [
    "import cv2\n",
    "import re\n",
    "import pandas as pd\n",
    "import numpy as np\n",
    "import pytesseract\n",
    "from pytesseract import Output\n",
    "from tqdm.auto import tqdm\n",
    "from sklearn.metrics import accuracy_score\n",
    "import matplotlib.pyplot as plt"
   ]
  },
  {
   "cell_type": "markdown",
   "id": "2af8d058",
   "metadata": {},
   "source": [
    "### Data Load"
   ]
  },
  {
   "cell_type": "code",
   "execution_count": null,
   "id": "14ffcd22",
   "metadata": {},
   "outputs": [],
   "source": [
    "train_df = pd.read_csv('./train.csv')\n",
    "test_df = pd.read_csv('./test.csv')"
   ]
  },
  {
   "cell_type": "markdown",
   "id": "6dafaeeb",
   "metadata": {},
   "source": [
    "### Metric"
   ]
  },
  {
   "cell_type": "code",
   "execution_count": null,
   "id": "d30064d7",
   "metadata": {},
   "outputs": [],
   "source": [
    "def get_accuracy(answer_df, predict_df):\n",
    "    return accuracy_score(answer_df['text'].values, predict_df['text'].values)"
   ]
  },
  {
   "cell_type": "markdown",
   "id": "3cb5af3d",
   "metadata": {},
   "source": [
    "### PyTesseract Model"
   ]
  },
  {
   "cell_type": "code",
   "execution_count": null,
   "id": "b420941f",
   "metadata": {},
   "outputs": [],
   "source": [
    "class PyTesseract:\n",
    "    def __init__(self, lang='kor'):\n",
    "        self.lang = lang\n",
    "    \n",
    "    def load_image(self, img_path):\n",
    "        img = cv2.imread(img_path)\n",
    "        img = cv2.cvtColor(img, cv2.COLOR_BGR2RGB)\n",
    "        return img\n",
    "\n",
    "    def text_preprocessing(self, text):\n",
    "        text = text.replace('\\n', '')\n",
    "        text = re.sub('[-=+,#/\\?:^$.@*\\\"※~&%ㆍ!』\\\\‘|\\(\\)\\[\\]\\<\\>`\\'…》]','', text)\n",
    "        text = text.strip()\n",
    "        return text\n",
    "    \n",
    "    def prediction(self, img_path_list):\n",
    "        preds = []\n",
    "        for img_path in tqdm(img_path_list):\n",
    "            img = self.load_image(img_path)\n",
    "            text = pytesseract.image_to_string(img, lang=self.lang)\n",
    "            text = self.text_preprocessing(text)\n",
    "            preds.append(text)\n",
    "        print('Done.')\n",
    "        return preds"
   ]
  },
  {
   "cell_type": "markdown",
   "id": "d258f8d5",
   "metadata": {},
   "source": [
    "### Define PyTesseract"
   ]
  },
  {
   "cell_type": "code",
   "execution_count": null,
   "id": "6144482a",
   "metadata": {},
   "outputs": [],
   "source": [
    "tesseract_model = PyTesseract()"
   ]
  },
  {
   "cell_type": "markdown",
   "id": "33fd524d",
   "metadata": {},
   "source": [
    "### Validation (=Train dataset)"
   ]
  },
  {
   "cell_type": "code",
   "execution_count": null,
   "id": "ee2c9c4a",
   "metadata": {
    "scrolled": true
   },
   "outputs": [],
   "source": [
    "train_predicts = tesseract_model.prediction(train_df['img_path'].values)"
   ]
  },
  {
   "cell_type": "code",
   "execution_count": null,
   "id": "fd9af6aa",
   "metadata": {},
   "outputs": [],
   "source": [
    "train_predict_df = train_df.copy()\n",
    "train_predict_df['text'] = train_predicts\n",
    "print('Train Accuracy : ', get_accuracy(train_df, train_predict_df))"
   ]
  },
  {
   "cell_type": "code",
   "execution_count": null,
   "id": "80c7c775",
   "metadata": {},
   "outputs": [],
   "source": []
  },
  {
   "cell_type": "code",
   "execution_count": null,
   "id": "4ed80afd",
   "metadata": {},
   "outputs": [],
   "source": [
    "# 경계선 검출\n",
    "## 경로는 각자 지정.\n",
    "image_gray = cv2.imread(\"./train/train_00001.png\", cv2.IMREAD_GRAYSCALE)\n",
    "\n",
    "median_intensity = np.median(image_gray)\n",
    "lower_threshold = int(max(0, (1.0 - 0.33) * median_intensity))\n",
    "upper_threshold = int(min(255, (1.0 + 0.33) * median_intensity))"
   ]
  },
  {
   "cell_type": "code",
   "execution_count": null,
   "id": "03c0a9f8",
   "metadata": {},
   "outputs": [],
   "source": [
    "# 출력 코드\n",
    "image_canny = cv2.Canny(image_gray, lower_threshold, upper_threshold)\n",
    "\n",
    "plt.imshow(image_canny, cmap='gray')\n",
    "plt.show()"
   ]
  },
  {
   "cell_type": "code",
   "execution_count": null,
   "id": "544d6289",
   "metadata": {},
   "outputs": [],
   "source": [
    "# 배경 제거(이미지 이진화)\n",
    "image_grey = cv2.imread('./train/train_00117.png', cv2.IMREAD_GRAYSCALE)"
   ]
  },
  {
   "cell_type": "code",
   "execution_count": null,
   "id": "181801f7",
   "metadata": {},
   "outputs": [],
   "source": [
    "# Adaptive Thresholding 적용 \n",
    "max_output_value = 255   # 출력 픽셀 강도의 최대값\n",
    "neighborhood_size = 99\n",
    "subtract_from_mean = 10\n",
    "image_binarized = cv2.adaptiveThreshold(image_grey,\n",
    "                                       max_output_value,\n",
    "                                       cv2.ADAPTIVE_THRESH_GAUSSIAN_C,\n",
    "                                       cv2.THRESH_BINARY,\n",
    "                                       neighborhood_size,\n",
    "                                       subtract_from_mean)\n"
   ]
  },
  {
   "cell_type": "code",
   "execution_count": null,
   "id": "41ed392a",
   "metadata": {},
   "outputs": [],
   "source": [
    "# 출력\n",
    "plt.imshow(image_binarized, cmap='gray')\n",
    "plt.show()"
   ]
  },
  {
   "cell_type": "code",
   "execution_count": null,
   "id": "e3498efc",
   "metadata": {},
   "outputs": [],
   "source": []
  },
  {
   "cell_type": "code",
   "execution_count": null,
   "id": "d5495f8a",
   "metadata": {},
   "outputs": [],
   "source": []
  },
  {
   "cell_type": "code",
   "execution_count": null,
   "id": "cbea5ec7",
   "metadata": {},
   "outputs": [],
   "source": []
  },
  {
   "cell_type": "code",
   "execution_count": null,
   "id": "65be9218",
   "metadata": {},
   "outputs": [],
   "source": [
    "# 제출 코드\n",
    "submit = pd.read_csv('./sample_submission.csv')\n",
    "submit['text'] = test_predicts\n",
    "submit.to_csv('./submit.csv', index=False, encoding=\"utf-8-sig\")"
   ]
  }
 ],
 "metadata": {
  "kernelspec": {
   "display_name": "Python 3 (ipykernel)",
   "language": "python",
   "name": "python3"
  },
  "language_info": {
   "codemirror_mode": {
    "name": "ipython",
    "version": 3
   },
   "file_extension": ".py",
   "mimetype": "text/x-python",
   "name": "python",
   "nbconvert_exporter": "python",
   "pygments_lexer": "ipython3",
   "version": "3.8.8"
  }
 },
 "nbformat": 4,
 "nbformat_minor": 5
}
