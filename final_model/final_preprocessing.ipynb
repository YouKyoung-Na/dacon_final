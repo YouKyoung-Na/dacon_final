{
 "cells": [
  {
   "cell_type": "code",
   "execution_count": 6,
   "id": "e5f2143e",
   "metadata": {},
   "outputs": [],
   "source": [
    "import json\n",
    "import os\n",
    "import cv2\n",
    "import matplotlib.pyplot as plt\n",
    "\n",
    "file_path = \"./라벨링데이터\"\n",
    "file_list = os.listdir(file_path)\n",
    "# print(file_list)\n",
    "\n",
    "\n",
    "\"\"\"이미지 데이터 크롭 및 파일 생성\"\"\"\n",
    "# def crop_img():\n",
    "i = 1\n",
    "for json_f in file_list:\n",
    "    path = file_path + \"/\" + json_f\n",
    "    file = json.load(open(path, encoding='utf-8'))\n",
    "\n",
    "img = cv2.imread(\"./원천데이터/\" + file[\"images\"][0][\"file_name\"], cv2.IMREAD_COLOR)\n",
    "\n",
    "datas = []\n",
    "\n",
    "for val in file['annotations']:\n",
    "\n",
    "    text = val[\"text\"]\n",
    "    if (text.find('x') != -1):\n",
    "        continue\n",
    "\n",
    "    datas.append(val['bbox'])\n",
    "\n",
    "\n",
    "for j in datas:\n",
    "    x1 = j[0]\n",
    "    x2 = j[0]+j[2]\n",
    "    y1 = j[1]\n",
    "    y2 = j[1]+j[3]\n",
    "\n",
    "    cut_image = img[y1:y2, x1:x2].copy()\n",
    "\n",
    "    cv2.imwrite(f'./p_train/train_{i}.png', cut_image)\n",
    "    i += 1\n",
    "\n",
    "\n",
    "\n",
    "\n",
    "# crop_img()"
   ]
  },
  {
   "cell_type": "code",
   "execution_count": null,
   "id": "7ee29dee",
   "metadata": {},
   "outputs": [],
   "source": []
  }
 ],
 "metadata": {
  "kernelspec": {
   "display_name": "Python 3 (ipykernel)",
   "language": "python",
   "name": "python3"
  },
  "language_info": {
   "codemirror_mode": {
    "name": "ipython",
    "version": 3
   },
   "file_extension": ".py",
   "mimetype": "text/x-python",
   "name": "python",
   "nbconvert_exporter": "python",
   "pygments_lexer": "ipython3",
   "version": "3.9.12"
  }
 },
 "nbformat": 4,
 "nbformat_minor": 5
}
