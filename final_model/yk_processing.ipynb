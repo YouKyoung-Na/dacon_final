{
 "cells": [
  {
   "cell_type": "markdown",
   "id": "6ba0c8d2",
   "metadata": {},
   "source": [
    "## 1. 이미지 받아오기"
   ]
  },
  {
   "cell_type": "code",
   "execution_count": 77,
   "id": "b9ad1ad9",
   "metadata": {},
   "outputs": [],
   "source": [
    "import json\n",
    "import os\n",
    "import cv2\n",
    "import matplotlib.pyplot as plt"
   ]
  },
  {
   "cell_type": "code",
   "execution_count": 78,
   "id": "a5b32468",
   "metadata": {},
   "outputs": [
    {
     "name": "stdout",
     "output_type": "stream",
     "text": [
      "['간판_가로형간판_000001.json', '간판_가로형간판_000002.json', '간판_가로형간판_000003.json']\n"
     ]
    }
   ],
   "source": [
    "file_path = \"./라벨링데이터\"\n",
    "file_list = os.listdir(file_path)\n",
    "print(file_list)"
   ]
  },
  {
   "cell_type": "code",
   "execution_count": 81,
   "id": "9b85965f",
   "metadata": {
    "scrolled": false
   },
   "outputs": [],
   "source": [
    "i = 1\n",
    "for json_f in file_list:\n",
    "    path = file_path + \"/\" + json_f\n",
    "    file = json.load(open(path, encoding='utf-8'))\n",
    "    \n",
    "#     print(\"./원천데이터/\" + file[\"images\"][0][\"file_name\"])\n",
    "    img = cv2.imread(\"./원천데이터/\" + file[\"images\"][0][\"file_name\"], cv2.IMREAD_COLOR)\n",
    "\n",
    "#     print(type(img))\n",
    "#     print(img.shape)\n",
    "    \n",
    "    datas = []\n",
    "    \n",
    "#     print(file)\n",
    "#     print(file['annotations'])\n",
    "    \n",
    "    for val in file['annotations']:\n",
    "        text = val[\"text\"]\n",
    "    \n",
    "        if (text.find('x') != -1):\n",
    "            continue\n",
    "\n",
    "        datas.append(val['bbox'])\n",
    "\n",
    "    for j in datas:\n",
    "        x1 = j[0]\n",
    "        x2 = j[0]+j[2]\n",
    "        y1 = j[1]\n",
    "        y2 = j[1]+j[3]\n",
    "\n",
    "        cut_image = img[y1:y2, x1:x2].copy()\n",
    "\n",
    "        cv2.imwrite(f'train_{i}.png', cut_image)\n",
    "        i += 1"
   ]
  }
 ],
 "metadata": {
  "kernelspec": {
   "display_name": "Python 3 (ipykernel)",
   "language": "python",
   "name": "python3"
  },
  "language_info": {
   "codemirror_mode": {
    "name": "ipython",
    "version": 3
   },
   "file_extension": ".py",
   "mimetype": "text/x-python",
   "name": "python",
   "nbconvert_exporter": "python",
   "pygments_lexer": "ipython3",
   "version": "3.9.12"
  }
 },
 "nbformat": 4,
 "nbformat_minor": 5
}
